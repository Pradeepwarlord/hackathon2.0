{
  "nbformat": 4,
  "nbformat_minor": 0,
  "metadata": {
    "colab": {
      "provenance": []
    },
    "kernelspec": {
      "name": "python3",
      "display_name": "Python 3"
    },
    "language_info": {
      "name": "python"
    }
  },
  "cells": [
    {
      "cell_type": "code",
      "execution_count": null,
      "metadata": {
        "id": "w_rlBl-rNjRU"
      },
      "outputs": [],
      "source": [
        "import pandas as pd"
      ]
    },
    {
      "cell_type": "code",
      "source": [
        "ev_loc=pd.read_csv('/content/EV Maker by Place.csv')\n",
        "ev_manu=pd.read_csv('/content/ev_cat_01-24.csv')\n",
        "ev_sales=pd.read_csv('/content/ev_sales_by_makers_and_cat_15-24.csv')\n",
        "ev_operation=pd.read_csv('/content/OperationalPC.csv')\n",
        "ev_class=pd.read_csv('/content/Vehicle Class - All.csv')\n"
      ],
      "metadata": {
        "id": "kijzYp4POLT6"
      },
      "execution_count": null,
      "outputs": []
    },
    {
      "cell_type": "markdown",
      "source": [
        "**EV Adoption Trends:** Analyze the adoption rate of electric vehicles over the years. How has the demand for EVs changed over time?bold text"
      ],
      "metadata": {
        "id": "HK_GP8eOVVQn"
      }
    },
    {
      "cell_type": "code",
      "source": [
        "print(ev_sales[['2015','2016','2017','2018','2019','2020','2021','2022','2023','2024']].sum())"
      ],
      "metadata": {
        "colab": {
          "base_uri": "https://localhost:8080/"
        },
        "id": "A0I8gt7NQySn",
        "outputId": "53ab3b80-c2ca-478a-8cdd-cfa07f27774e"
      },
      "execution_count": null,
      "outputs": [
        {
          "output_type": "stream",
          "name": "stdout",
          "text": [
            "2015       7752\n",
            "2016      49249\n",
            "2017      87019\n",
            "2018     129763\n",
            "2019     165786\n",
            "2020     123770\n",
            "2021     328854\n",
            "2022    1020533\n",
            "2023    1529234\n",
            "2024     978943\n",
            "dtype: int64\n"
          ]
        }
      ]
    },
    {
      "cell_type": "markdown",
      "source": [
        "**Manufacturer Performance:** Compare the performance of different EV manufacturers. Which companies have the highest market share, and what factors contribute to their success?"
      ],
      "metadata": {
        "id": "9jmPcu5I41xe"
      }
    },
    {
      "cell_type": "code",
      "source": [
        "print(ev_sales.groupby('Maker')[['2015','2016','2017','2018','2019','2020','2021','2022','2023','2024']].sum())"
      ],
      "metadata": {
        "colab": {
          "base_uri": "https://localhost:8080/"
        },
        "id": "gZoG-YObVcZG",
        "outputId": "52528ec8-7e41-4af5-c8e6-48e0d985c69d"
      },
      "execution_count": null,
      "outputs": [
        {
          "output_type": "stream",
          "name": "stdout",
          "text": [
            "                                                 2015  2016  2017  2018  2019  \\\n",
            "Maker                                                                           \n",
            "\"VOLVO GROUP INDIA PVT LTD\"                         0     0    31    12     0   \n",
            "3EV INDUSTRIES PVT LTD                              0     0     0     0     0   \n",
            "3GB TECHNOLOGY PVT LTD                              0     1     1     1     0   \n",
            "3S INDUSTRIES PRIVATE LIMITED                       0     0     0     0    51   \n",
            "A B EXCAVATORS & EARTHMOVER LTD                     0     1     0     0     0   \n",
            "...                                               ...   ...   ...   ...   ...   \n",
            "ZHEJIANG LUYUAN (IMPORTER: DYNAM EV TECH)           0     0     0     0     0   \n",
            "ZHEJIANG TIANYING  (IMPORTER: NEWTRON ELECTRIC)     0     0     0     0     0   \n",
            "ZHONGHUALONG (IMPORTER: POWORO PVT LTD)             0     0     0     0     0   \n",
            "ZHONGXING (IMPORTER:GREENO AUTOMOBILE)              0     0     0     0     0   \n",
            "ZOHAN TRADERS AND BIG METRO                         0     0     0     0     0   \n",
            "\n",
            "                                                 2020  2021  2022  2023  2024  \n",
            "Maker                                                                          \n",
            "\"VOLVO GROUP INDIA PVT LTD\"                         0     0     0     0     0  \n",
            "3EV INDUSTRIES PVT LTD                              0   112   390   545    51  \n",
            "3GB TECHNOLOGY PVT LTD                              0     0     0     0     0  \n",
            "3S INDUSTRIES PRIVATE LIMITED                      67    43    68   266   578  \n",
            "A B EXCAVATORS & EARTHMOVER LTD                     0     0     0     0     0  \n",
            "...                                               ...   ...   ...   ...   ...  \n",
            "ZHEJIANG LUYUAN (IMPORTER: DYNAM EV TECH)           0     0    21    45     9  \n",
            "ZHEJIANG TIANYING  (IMPORTER: NEWTRON ELECTRIC)     0     0     0    64     6  \n",
            "ZHONGHUALONG (IMPORTER: POWORO PVT LTD)             0     0     0     0    54  \n",
            "ZHONGXING (IMPORTER:GREENO AUTOMOBILE)              0     0     0     0     5  \n",
            "ZOHAN TRADERS AND BIG METRO                         0     0     5   131    74  \n",
            "\n",
            "[1196 rows x 10 columns]\n"
          ]
        }
      ]
    },
    {
      "cell_type": "markdown",
      "source": [
        "**Price vs. Features:** Investigate the relationship between the price of EVs and their features. Is there a correlation between price and key attributes such as battery life, range, or charging time?"
      ],
      "metadata": {
        "id": "fP-6j0Jt8GFI"
      }
    },
    {
      "cell_type": "code",
      "source": [
        "ev_class.sort_values(by='Total Registration' ,ascending=False)"
      ],
      "metadata": {
        "colab": {
          "base_uri": "https://localhost:8080/",
          "height": 551
        },
        "id": "gV6HOmuG8Koi",
        "outputId": "f371db66-b948-4ec4-9520-d05c00679544"
      },
      "execution_count": null,
      "outputs": [
        {
          "output_type": "execute_result",
          "data": {
            "text/plain": [
              "                      Vehicle Class Total Registration\n",
              "7              MEDIUM GOODS VEHICLE           8,75,789\n",
              "3           HEAVY PASSENGER VEHICLE           8,28,189\n",
              "11                THREE WHEELER(NT)           6,79,804\n",
              "5               LIGHT MOTOR VEHICLE        6,50,61,773\n",
              "1               HEAVY GOODS VEHICLE          58,70,865\n",
              "6           LIGHT PASSENGER VEHICLE          43,43,410\n",
              "9          MEDIUM PASSENGER VEHICLE           3,25,015\n",
              "14                  TWO WHEELER(NT)       27,49,71,646\n",
              "0   FOUR WHEELER (INVALID CARRIAGE)             21,346\n",
              "10       OTHER THAN MENTIONED ABOVE          11,26,398\n",
              "8              MEDIUM MOTOR VEHICLE           1,94,600\n",
              "15                   TWO WHEELER(T)           1,29,181\n",
              "13   TWO WHEELER (INVALID CARRIAGE)           1,10,788\n",
              "12                 THREE WHEELER(T)        1,07,08,473\n",
              "2               HEAVY MOTOR VEHICLE           1,02,965\n",
              "4               LIGHT GOODS VEHICLE        1,02,49,591"
            ],
            "text/html": [
              "\n",
              "  <div id=\"df-1ebfceb8-5762-4f5c-88c6-492b786c5df9\" class=\"colab-df-container\">\n",
              "    <div>\n",
              "<style scoped>\n",
              "    .dataframe tbody tr th:only-of-type {\n",
              "        vertical-align: middle;\n",
              "    }\n",
              "\n",
              "    .dataframe tbody tr th {\n",
              "        vertical-align: top;\n",
              "    }\n",
              "\n",
              "    .dataframe thead th {\n",
              "        text-align: right;\n",
              "    }\n",
              "</style>\n",
              "<table border=\"1\" class=\"dataframe\">\n",
              "  <thead>\n",
              "    <tr style=\"text-align: right;\">\n",
              "      <th></th>\n",
              "      <th>Vehicle Class</th>\n",
              "      <th>Total Registration</th>\n",
              "    </tr>\n",
              "  </thead>\n",
              "  <tbody>\n",
              "    <tr>\n",
              "      <th>7</th>\n",
              "      <td>MEDIUM GOODS VEHICLE</td>\n",
              "      <td>8,75,789</td>\n",
              "    </tr>\n",
              "    <tr>\n",
              "      <th>3</th>\n",
              "      <td>HEAVY PASSENGER VEHICLE</td>\n",
              "      <td>8,28,189</td>\n",
              "    </tr>\n",
              "    <tr>\n",
              "      <th>11</th>\n",
              "      <td>THREE WHEELER(NT)</td>\n",
              "      <td>6,79,804</td>\n",
              "    </tr>\n",
              "    <tr>\n",
              "      <th>5</th>\n",
              "      <td>LIGHT MOTOR VEHICLE</td>\n",
              "      <td>6,50,61,773</td>\n",
              "    </tr>\n",
              "    <tr>\n",
              "      <th>1</th>\n",
              "      <td>HEAVY GOODS VEHICLE</td>\n",
              "      <td>58,70,865</td>\n",
              "    </tr>\n",
              "    <tr>\n",
              "      <th>6</th>\n",
              "      <td>LIGHT PASSENGER VEHICLE</td>\n",
              "      <td>43,43,410</td>\n",
              "    </tr>\n",
              "    <tr>\n",
              "      <th>9</th>\n",
              "      <td>MEDIUM PASSENGER VEHICLE</td>\n",
              "      <td>3,25,015</td>\n",
              "    </tr>\n",
              "    <tr>\n",
              "      <th>14</th>\n",
              "      <td>TWO WHEELER(NT)</td>\n",
              "      <td>27,49,71,646</td>\n",
              "    </tr>\n",
              "    <tr>\n",
              "      <th>0</th>\n",
              "      <td>FOUR WHEELER (INVALID CARRIAGE)</td>\n",
              "      <td>21,346</td>\n",
              "    </tr>\n",
              "    <tr>\n",
              "      <th>10</th>\n",
              "      <td>OTHER THAN MENTIONED ABOVE</td>\n",
              "      <td>11,26,398</td>\n",
              "    </tr>\n",
              "    <tr>\n",
              "      <th>8</th>\n",
              "      <td>MEDIUM MOTOR VEHICLE</td>\n",
              "      <td>1,94,600</td>\n",
              "    </tr>\n",
              "    <tr>\n",
              "      <th>15</th>\n",
              "      <td>TWO WHEELER(T)</td>\n",
              "      <td>1,29,181</td>\n",
              "    </tr>\n",
              "    <tr>\n",
              "      <th>13</th>\n",
              "      <td>TWO WHEELER (INVALID CARRIAGE)</td>\n",
              "      <td>1,10,788</td>\n",
              "    </tr>\n",
              "    <tr>\n",
              "      <th>12</th>\n",
              "      <td>THREE WHEELER(T)</td>\n",
              "      <td>1,07,08,473</td>\n",
              "    </tr>\n",
              "    <tr>\n",
              "      <th>2</th>\n",
              "      <td>HEAVY MOTOR VEHICLE</td>\n",
              "      <td>1,02,965</td>\n",
              "    </tr>\n",
              "    <tr>\n",
              "      <th>4</th>\n",
              "      <td>LIGHT GOODS VEHICLE</td>\n",
              "      <td>1,02,49,591</td>\n",
              "    </tr>\n",
              "  </tbody>\n",
              "</table>\n",
              "</div>\n",
              "    <div class=\"colab-df-buttons\">\n",
              "\n",
              "  <div class=\"colab-df-container\">\n",
              "    <button class=\"colab-df-convert\" onclick=\"convertToInteractive('df-1ebfceb8-5762-4f5c-88c6-492b786c5df9')\"\n",
              "            title=\"Convert this dataframe to an interactive table.\"\n",
              "            style=\"display:none;\">\n",
              "\n",
              "  <svg xmlns=\"http://www.w3.org/2000/svg\" height=\"24px\" viewBox=\"0 -960 960 960\">\n",
              "    <path d=\"M120-120v-720h720v720H120Zm60-500h600v-160H180v160Zm220 220h160v-160H400v160Zm0 220h160v-160H400v160ZM180-400h160v-160H180v160Zm440 0h160v-160H620v160ZM180-180h160v-160H180v160Zm440 0h160v-160H620v160Z\"/>\n",
              "  </svg>\n",
              "    </button>\n",
              "\n",
              "  <style>\n",
              "    .colab-df-container {\n",
              "      display:flex;\n",
              "      gap: 12px;\n",
              "    }\n",
              "\n",
              "    .colab-df-convert {\n",
              "      background-color: #E8F0FE;\n",
              "      border: none;\n",
              "      border-radius: 50%;\n",
              "      cursor: pointer;\n",
              "      display: none;\n",
              "      fill: #1967D2;\n",
              "      height: 32px;\n",
              "      padding: 0 0 0 0;\n",
              "      width: 32px;\n",
              "    }\n",
              "\n",
              "    .colab-df-convert:hover {\n",
              "      background-color: #E2EBFA;\n",
              "      box-shadow: 0px 1px 2px rgba(60, 64, 67, 0.3), 0px 1px 3px 1px rgba(60, 64, 67, 0.15);\n",
              "      fill: #174EA6;\n",
              "    }\n",
              "\n",
              "    .colab-df-buttons div {\n",
              "      margin-bottom: 4px;\n",
              "    }\n",
              "\n",
              "    [theme=dark] .colab-df-convert {\n",
              "      background-color: #3B4455;\n",
              "      fill: #D2E3FC;\n",
              "    }\n",
              "\n",
              "    [theme=dark] .colab-df-convert:hover {\n",
              "      background-color: #434B5C;\n",
              "      box-shadow: 0px 1px 3px 1px rgba(0, 0, 0, 0.15);\n",
              "      filter: drop-shadow(0px 1px 2px rgba(0, 0, 0, 0.3));\n",
              "      fill: #FFFFFF;\n",
              "    }\n",
              "  </style>\n",
              "\n",
              "    <script>\n",
              "      const buttonEl =\n",
              "        document.querySelector('#df-1ebfceb8-5762-4f5c-88c6-492b786c5df9 button.colab-df-convert');\n",
              "      buttonEl.style.display =\n",
              "        google.colab.kernel.accessAllowed ? 'block' : 'none';\n",
              "\n",
              "      async function convertToInteractive(key) {\n",
              "        const element = document.querySelector('#df-1ebfceb8-5762-4f5c-88c6-492b786c5df9');\n",
              "        const dataTable =\n",
              "          await google.colab.kernel.invokeFunction('convertToInteractive',\n",
              "                                                    [key], {});\n",
              "        if (!dataTable) return;\n",
              "\n",
              "        const docLinkHtml = 'Like what you see? Visit the ' +\n",
              "          '<a target=\"_blank\" href=https://colab.research.google.com/notebooks/data_table.ipynb>data table notebook</a>'\n",
              "          + ' to learn more about interactive tables.';\n",
              "        element.innerHTML = '';\n",
              "        dataTable['output_type'] = 'display_data';\n",
              "        await google.colab.output.renderOutput(dataTable, element);\n",
              "        const docLink = document.createElement('div');\n",
              "        docLink.innerHTML = docLinkHtml;\n",
              "        element.appendChild(docLink);\n",
              "      }\n",
              "    </script>\n",
              "  </div>\n",
              "\n",
              "\n",
              "<div id=\"df-bd5b6e3f-ecb6-45c4-b602-253a899eb528\">\n",
              "  <button class=\"colab-df-quickchart\" onclick=\"quickchart('df-bd5b6e3f-ecb6-45c4-b602-253a899eb528')\"\n",
              "            title=\"Suggest charts\"\n",
              "            style=\"display:none;\">\n",
              "\n",
              "<svg xmlns=\"http://www.w3.org/2000/svg\" height=\"24px\"viewBox=\"0 0 24 24\"\n",
              "     width=\"24px\">\n",
              "    <g>\n",
              "        <path d=\"M19 3H5c-1.1 0-2 .9-2 2v14c0 1.1.9 2 2 2h14c1.1 0 2-.9 2-2V5c0-1.1-.9-2-2-2zM9 17H7v-7h2v7zm4 0h-2V7h2v10zm4 0h-2v-4h2v4z\"/>\n",
              "    </g>\n",
              "</svg>\n",
              "  </button>\n",
              "\n",
              "<style>\n",
              "  .colab-df-quickchart {\n",
              "      --bg-color: #E8F0FE;\n",
              "      --fill-color: #1967D2;\n",
              "      --hover-bg-color: #E2EBFA;\n",
              "      --hover-fill-color: #174EA6;\n",
              "      --disabled-fill-color: #AAA;\n",
              "      --disabled-bg-color: #DDD;\n",
              "  }\n",
              "\n",
              "  [theme=dark] .colab-df-quickchart {\n",
              "      --bg-color: #3B4455;\n",
              "      --fill-color: #D2E3FC;\n",
              "      --hover-bg-color: #434B5C;\n",
              "      --hover-fill-color: #FFFFFF;\n",
              "      --disabled-bg-color: #3B4455;\n",
              "      --disabled-fill-color: #666;\n",
              "  }\n",
              "\n",
              "  .colab-df-quickchart {\n",
              "    background-color: var(--bg-color);\n",
              "    border: none;\n",
              "    border-radius: 50%;\n",
              "    cursor: pointer;\n",
              "    display: none;\n",
              "    fill: var(--fill-color);\n",
              "    height: 32px;\n",
              "    padding: 0;\n",
              "    width: 32px;\n",
              "  }\n",
              "\n",
              "  .colab-df-quickchart:hover {\n",
              "    background-color: var(--hover-bg-color);\n",
              "    box-shadow: 0 1px 2px rgba(60, 64, 67, 0.3), 0 1px 3px 1px rgba(60, 64, 67, 0.15);\n",
              "    fill: var(--button-hover-fill-color);\n",
              "  }\n",
              "\n",
              "  .colab-df-quickchart-complete:disabled,\n",
              "  .colab-df-quickchart-complete:disabled:hover {\n",
              "    background-color: var(--disabled-bg-color);\n",
              "    fill: var(--disabled-fill-color);\n",
              "    box-shadow: none;\n",
              "  }\n",
              "\n",
              "  .colab-df-spinner {\n",
              "    border: 2px solid var(--fill-color);\n",
              "    border-color: transparent;\n",
              "    border-bottom-color: var(--fill-color);\n",
              "    animation:\n",
              "      spin 1s steps(1) infinite;\n",
              "  }\n",
              "\n",
              "  @keyframes spin {\n",
              "    0% {\n",
              "      border-color: transparent;\n",
              "      border-bottom-color: var(--fill-color);\n",
              "      border-left-color: var(--fill-color);\n",
              "    }\n",
              "    20% {\n",
              "      border-color: transparent;\n",
              "      border-left-color: var(--fill-color);\n",
              "      border-top-color: var(--fill-color);\n",
              "    }\n",
              "    30% {\n",
              "      border-color: transparent;\n",
              "      border-left-color: var(--fill-color);\n",
              "      border-top-color: var(--fill-color);\n",
              "      border-right-color: var(--fill-color);\n",
              "    }\n",
              "    40% {\n",
              "      border-color: transparent;\n",
              "      border-right-color: var(--fill-color);\n",
              "      border-top-color: var(--fill-color);\n",
              "    }\n",
              "    60% {\n",
              "      border-color: transparent;\n",
              "      border-right-color: var(--fill-color);\n",
              "    }\n",
              "    80% {\n",
              "      border-color: transparent;\n",
              "      border-right-color: var(--fill-color);\n",
              "      border-bottom-color: var(--fill-color);\n",
              "    }\n",
              "    90% {\n",
              "      border-color: transparent;\n",
              "      border-bottom-color: var(--fill-color);\n",
              "    }\n",
              "  }\n",
              "</style>\n",
              "\n",
              "  <script>\n",
              "    async function quickchart(key) {\n",
              "      const quickchartButtonEl =\n",
              "        document.querySelector('#' + key + ' button');\n",
              "      quickchartButtonEl.disabled = true;  // To prevent multiple clicks.\n",
              "      quickchartButtonEl.classList.add('colab-df-spinner');\n",
              "      try {\n",
              "        const charts = await google.colab.kernel.invokeFunction(\n",
              "            'suggestCharts', [key], {});\n",
              "      } catch (error) {\n",
              "        console.error('Error during call to suggestCharts:', error);\n",
              "      }\n",
              "      quickchartButtonEl.classList.remove('colab-df-spinner');\n",
              "      quickchartButtonEl.classList.add('colab-df-quickchart-complete');\n",
              "    }\n",
              "    (() => {\n",
              "      let quickchartButtonEl =\n",
              "        document.querySelector('#df-bd5b6e3f-ecb6-45c4-b602-253a899eb528 button');\n",
              "      quickchartButtonEl.style.display =\n",
              "        google.colab.kernel.accessAllowed ? 'block' : 'none';\n",
              "    })();\n",
              "  </script>\n",
              "</div>\n",
              "\n",
              "    </div>\n",
              "  </div>\n"
            ],
            "application/vnd.google.colaboratory.intrinsic+json": {
              "type": "dataframe",
              "summary": "{\n  \"name\": \"ev_class\",\n  \"rows\": 16,\n  \"fields\": [\n    {\n      \"column\": \"Vehicle Class\",\n      \"properties\": {\n        \"dtype\": \"string\",\n        \"num_unique_values\": 16,\n        \"samples\": [\n          \"MEDIUM GOODS VEHICLE\",\n          \"HEAVY PASSENGER VEHICLE\",\n          \"LIGHT PASSENGER VEHICLE\"\n        ],\n        \"semantic_type\": \"\",\n        \"description\": \"\"\n      }\n    },\n    {\n      \"column\": \"Total Registration\",\n      \"properties\": {\n        \"dtype\": \"string\",\n        \"num_unique_values\": 16,\n        \"samples\": [\n          \"8,75,789\",\n          \"8,28,189\",\n          \"43,43,410\"\n        ],\n        \"semantic_type\": \"\",\n        \"description\": \"\"\n      }\n    }\n  ]\n}"
            }
          },
          "metadata": {},
          "execution_count": 27
        }
      ]
    },
    {
      "cell_type": "markdown",
      "source": [
        "**Impact of Government Policies:** Explore the impact of government subsidies or regulations on the EV market. Have policy changes resulted in noticeable shifts in sales or adoption rates?"
      ],
      "metadata": {
        "id": "D30qPUNO9dvN"
      }
    },
    {
      "cell_type": "code",
      "source": [
        "print(ev_operation.sort_values(by='No. of Operational PCS',ascending=False).head(5))\n",
        "print(ev_operation.sort_values(by='No. of Operational PCS',ascending=False).tail(5))"
      ],
      "metadata": {
        "colab": {
          "base_uri": "https://localhost:8080/"
        },
        "id": "14st_n5i9h_U",
        "outputId": "216b9113-1220-4e2f-f4ef-1aa04df20c6d"
      },
      "execution_count": null,
      "outputs": [
        {
          "output_type": "stream",
          "name": "stdout",
          "text": [
            "          State  No. of Operational PCS\n",
            "19  Maharashtra                    3079\n",
            "8         Delhi                    1886\n",
            "15    Karnataka                    1041\n",
            "16       Kerala                     852\n",
            "28   Tamil Nadu                     643\n",
            "                State  No. of Operational PCS\n",
            "22           Nagaland                       6\n",
            "0   Andaman & Nicobar                       3\n",
            "27             Sikkim                       2\n",
            "7         D&D and DNH                       1\n",
            "17        Lakshadweep                       1\n"
          ]
        }
      ]
    },
    {
      "cell_type": "markdown",
      "source": [
        "**Geographical Analysis:** Study how the demand for electric vehicles varies across different regions in India. Which regions are leading in EV adoption, and what might be the reasons behind this trend?"
      ],
      "metadata": {
        "id": "Kg9JJLlkAEmq"
      }
    },
    {
      "cell_type": "code",
      "source": [
        "print(ev_loc.groupby('State')['EV Maker'].count())\n"
      ],
      "metadata": {
        "colab": {
          "base_uri": "https://localhost:8080/"
        },
        "id": "_Xc4p5VPAJK1",
        "outputId": "7adec3e1-106f-4931-c538-cc806495bc57"
      },
      "execution_count": null,
      "outputs": [
        {
          "output_type": "stream",
          "name": "stdout",
          "text": [
            "State\n",
            "Andhra Pradesh     1\n",
            "Delhi              4\n",
            "Gujarat            5\n",
            "Haryana            6\n",
            "Karnataka          6\n",
            "Madhya Pradesh     1\n",
            "Maharashtra       15\n",
            "Punjab             1\n",
            "Rajasthan          4\n",
            "Tamil Nadu        11\n",
            "Telangana          3\n",
            "Uttarakhand        2\n",
            "West Bengal        3\n",
            "Name: EV Maker, dtype: int64\n",
            "\n",
            "                State  No. of Operational PCS\n",
            "19        Maharashtra                    3079\n",
            "8               Delhi                    1886\n",
            "15          Karnataka                    1041\n",
            "16             Kerala                     852\n",
            "28         Tamil Nadu                     643\n",
            "31      Uttar Pradesh                     582\n",
            "26          Rajasthan                     500\n",
            "29          Telangana                     481\n",
            "10            Gujarat                     476\n",
            "11            Haryana                     377\n",
            "18     Madhya Pradesh                     341\n",
            "1      Andhra Pradesh                     327\n",
            "33        West Bengal                     318\n",
            "23             Odisha                     198\n",
            "25             Punjab                     158\n",
            "6        Chhattisgarh                     149\n",
            "14          Jharkhand                     135\n",
            "4               Bihar                     124\n",
            "9                 Goa                     113\n",
            "3               Assam                      86\n",
            "32        Uttarakhand                      76\n",
            "13  Jammu and Kashmir                      47\n",
            "12   Himachal Pradesh                      44\n",
            "24        Pondicherry                      23\n",
            "21          Meghalaya                      21\n",
            "30            Tripura                      18\n",
            "20            Manipur                      17\n",
            "5          Chandigarh                      12\n",
            "2   Arunachal Pradesh                       9\n",
            "22           Nagaland                       6\n",
            "0   Andaman & Nicobar                       3\n",
            "27             Sikkim                       2\n",
            "7         D&D and DNH                       1\n",
            "17        Lakshadweep                       1\n"
          ]
        }
      ]
    },
    {
      "cell_type": "markdown",
      "source": [
        "**Environmental Impact:** Analyze the potential environmental benefits of increasing EV adoption. What is the reduction in emissions or fuel consumption?"
      ],
      "metadata": {
        "id": "isqV8kHzA99F"
      }
    },
    {
      "cell_type": "code",
      "source": [
        "print(ev_operation.sort_values(by='No. of Operational PCS',ascending=False))"
      ],
      "metadata": {
        "colab": {
          "base_uri": "https://localhost:8080/"
        },
        "id": "YQd8q8YSCBC-",
        "outputId": "c2fd9e88-b57d-4e5d-a343-7e4adeb7f011"
      },
      "execution_count": null,
      "outputs": [
        {
          "output_type": "stream",
          "name": "stdout",
          "text": [
            "                State  No. of Operational PCS\n",
            "19        Maharashtra                    3079\n",
            "8               Delhi                    1886\n",
            "15          Karnataka                    1041\n",
            "16             Kerala                     852\n",
            "28         Tamil Nadu                     643\n",
            "31      Uttar Pradesh                     582\n",
            "26          Rajasthan                     500\n",
            "29          Telangana                     481\n",
            "10            Gujarat                     476\n",
            "11            Haryana                     377\n",
            "18     Madhya Pradesh                     341\n",
            "1      Andhra Pradesh                     327\n",
            "33        West Bengal                     318\n",
            "23             Odisha                     198\n",
            "25             Punjab                     158\n",
            "6        Chhattisgarh                     149\n",
            "14          Jharkhand                     135\n",
            "4               Bihar                     124\n",
            "9                 Goa                     113\n",
            "3               Assam                      86\n",
            "32        Uttarakhand                      76\n",
            "13  Jammu and Kashmir                      47\n",
            "12   Himachal Pradesh                      44\n",
            "24        Pondicherry                      23\n",
            "21          Meghalaya                      21\n",
            "30            Tripura                      18\n",
            "20            Manipur                      17\n",
            "5          Chandigarh                      12\n",
            "2   Arunachal Pradesh                       9\n",
            "22           Nagaland                       6\n",
            "0   Andaman & Nicobar                       3\n",
            "27             Sikkim                       2\n",
            "7         D&D and DNH                       1\n",
            "17        Lakshadweep                       1\n"
          ]
        }
      ]
    }
  ]
}